{
 "cells": [
  {
   "cell_type": "markdown",
   "id": "9a10a3ce",
   "metadata": {},
   "source": [
    "## Quiz 11: Measures of Central Tendency"
   ]
  },
  {
   "cell_type": "markdown",
   "id": "a11c55a4",
   "metadata": {},
   "source": [
    "> 1. Heather built **7 buildings** with her toy blocks and measured their heights in millimeters. The heights of her block buildings were **750 mm**, **850 mm**, **700 mm**, **650 mm**, **750 mm**, **900 mm**, and **950 mm**. What is the **mean height** of the buildings?\n",
    "\n",
    "\\begin{gather*}\n",
    "    \\mu = \\frac{\\textstyle\\sum_{i = 1}^7 x_{i}}{7} \\\\\n",
    "    \\mu = \\frac{750 + 850 + 700 + 650 + 750 + 900 + 950}{7} \\\\\n",
    "    \\mu = \\frac{5550}{7} \\\\\n",
    "    \\boxed{\\mu = 792.86 \\ \\text{or} \\ 793}\n",
    "\\end{gather*}"
   ]
  },
  {
   "cell_type": "markdown",
   "id": "7510b7b6",
   "metadata": {},
   "source": [
    "> 2. **ANSWER: C**\n",
    "\n",
    "\\begin{gather*}\n",
    "    \\mu = \\frac{\\sum_{i = 1}^{13} x_{i}}{13} \\\\\n",
    "    \\mu = \\frac{2 + 2 + 2 + 4 + 4 + 6 + 6 + 7 + 8 + 9 + 10 + 10 + 10}{13} \\\\\n",
    "    \\mu = \\frac{80}{13} \\\\\n",
    "    \\boxed{\\mu = 6.15} \\\\ \\\\\n",
    "    \\boxed{M = 6} \\\\ \\\\\n",
    "    \\boxed{Z = 2 \\ \\& \\ 10}\n",
    "\\end{gather*}"
   ]
  },
  {
   "cell_type": "markdown",
   "id": "72902163",
   "metadata": {},
   "source": [
    "<img src=\"https://img-c.udemycdn.com/redactor/raw/quiz_question/2021-01-06_23-16-05-a6883b7b1240f6cfa77eafe884b1fe75.png\" alt=\"Alt Text\" width=\"550\" height=\"270\">"
   ]
  },
  {
   "cell_type": "markdown",
   "id": "9d5ddff1",
   "metadata": {},
   "source": [
    "> 3. Given the data set and its mean, what is the value of **x**?\n",
    "\n",
    "\\begin{gather*}\n",
    "    61, 80, x, 91 \\\\\n",
    "    \\mu = 78 \\\\\n",
    "    78 = \\frac{61 + 80 + x + 91}{4} \\\\\n",
    "    4(78) = (\\frac{61 + 80 + x + 91}{4})4 \\\\\n",
    "    312 = (\\frac{61 + 80 + x + 91}{\\cancel{4}})\\cancel{4} \\\\\n",
    "    312 = 61 + 80 + x + 91 \\\\\n",
    "    312 = 232 + x \\\\\n",
    "    312 - 232 = x \\\\\n",
    "    \\boxed{x = 80}\n",
    "\\end{gather*}"
   ]
  }
 ],
 "metadata": {
  "language_info": {
   "name": "python"
  }
 },
 "nbformat": 4,
 "nbformat_minor": 5
}
