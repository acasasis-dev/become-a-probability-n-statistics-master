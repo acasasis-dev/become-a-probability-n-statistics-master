{
 "cells": [
  {
   "cell_type": "markdown",
   "id": "9a10a3ce",
   "metadata": {},
   "source": [
    "## Quiz 11: Measures of Central Tendency"
   ]
  },
  {
   "cell_type": "markdown",
   "id": "a11c55a4",
   "metadata": {},
   "source": [
    "> 1. Heather built **7 buildings** with her toy blocks and measured their heights in millimeters. The heights of her block buildings were **750 mm**, **850 mm**, **700 mm**, **650 mm**, **750 mm**, **900 mm**, and **950 mm**. What is the **mean height** of the buildings?"
   ]
  },
  {
   "cell_type": "markdown",
   "id": "7510b7b6",
   "metadata": {},
   "source": [
    "> 2."
   ]
  },
  {
   "cell_type": "markdown",
   "id": "72902163",
   "metadata": {},
   "source": [
    "<img src=\"https://img-c.udemycdn.com/redactor/raw/quiz_question/2021-01-06_23-16-05-a6883b7b1240f6cfa77eafe884b1fe75.png\" alt=\"Alt Text\" width=\"550\" height=\"270\">"
   ]
  },
  {
   "cell_type": "markdown",
   "id": "9d5ddff1",
   "metadata": {},
   "source": [
    "> 3. Given the data set and its mean, what is the value of **x**?\n",
    "\n",
    "\\begin{gather*}\n",
    "    61, 80, x, 91 \\\\\n",
    "    \\mu = 78 \\\\\n",
    "\\end{gather*}"
   ]
  }
 ],
 "metadata": {
  "language_info": {
   "name": "python"
  }
 },
 "nbformat": 4,
 "nbformat_minor": 5
}
