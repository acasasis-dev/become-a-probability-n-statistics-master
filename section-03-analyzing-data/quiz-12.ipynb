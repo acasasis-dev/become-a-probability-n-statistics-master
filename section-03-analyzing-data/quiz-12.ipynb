{
 "cells": [
  {
   "cell_type": "markdown",
   "id": "413b8933",
   "metadata": {},
   "source": [
    "## Quiz 12: Measures of Speed"
   ]
  },
  {
   "cell_type": "markdown",
   "id": "cb240593",
   "metadata": {},
   "source": [
    "> 1.\n",
    "\n",
    "<img src=\"https://img-c.udemycdn.com/redactor/raw/quiz_question/2021-01-06_23-18-34-5ece83430081cdee2efc9df17678d362.png\" alt=\"Alt Text\" width=\"550\" height=\"500\">"
   ]
  },
  {
   "cell_type": "markdown",
   "id": "20c6dd84",
   "metadata": {},
   "source": [
    "> 2.\n",
    "\n",
    "<img src=\"https://img-c.udemycdn.com/redactor/raw/quiz_question/2021-01-06_23-20-39-e3a6575f35c931f0f04226d937e6e1f6.png\" alt=\"Alt Text\" width=\"600\" height=\"450\">"
   ]
  },
  {
   "cell_type": "markdown",
   "id": "f9f44210",
   "metadata": {},
   "source": [
    "> 3.\n",
    "\n",
    "<img src=\"https://img-c.udemycdn.com/redactor/raw/quiz_question/2021-01-06_23-21-09-b18041ea0246ebd22ef678eda71d1ab4.png\" alt=\"Alt Text\" width=\"600\" height=\"450\">"
   ]
  }
 ],
 "metadata": {
  "language_info": {
   "name": "python"
  }
 },
 "nbformat": 4,
 "nbformat_minor": 5
}
