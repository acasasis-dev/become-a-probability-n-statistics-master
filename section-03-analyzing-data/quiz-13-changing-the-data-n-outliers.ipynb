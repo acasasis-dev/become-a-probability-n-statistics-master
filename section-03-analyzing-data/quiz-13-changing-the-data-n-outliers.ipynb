{
 "cells": [
  {
   "cell_type": "markdown",
   "id": "42729708",
   "metadata": {},
   "source": [
    "## Quiz 13: Changing The Data and Outliers"
   ]
  },
  {
   "cell_type": "markdown",
   "id": "1262e91a",
   "metadata": {},
   "source": [
    "> 1.\n",
    "\n",
    "<img src=\"https://img-c.udemycdn.com/redactor/raw/quiz_question/2021-01-06_23-29-26-962f9bcc27aaf5f997952e78c5e5462a.png\" alt=\"Alt Text\" width=\"520\" height=\"300\">"
   ]
  },
  {
   "cell_type": "markdown",
   "id": "b6c53bd0",
   "metadata": {},
   "source": [
    "**ANSWER: B**"
   ]
  },
  {
   "cell_type": "markdown",
   "id": "e2c62214",
   "metadata": {},
   "source": [
    "> 2.\n",
    "\n",
    "<img src=\"https://img-c.udemycdn.com/redactor/raw/quiz_question/2021-01-06_23-29-42-f069213d87c4e18b81f9dbd6178b6656.png\" alt=\"Alt Text\" width=\"520\" height=\"250\">"
   ]
  },
  {
   "cell_type": "markdown",
   "id": "a330ec12",
   "metadata": {},
   "source": [
    "**ANSWER: D**"
   ]
  },
  {
   "cell_type": "markdown",
   "id": "60e552d7",
   "metadata": {},
   "source": [
    "> 3.\n",
    "\n",
    "<img src=\"https://img-c.udemycdn.com/redactor/raw/quiz_question/2021-01-06_23-30-03-6865b5b8571a7ff763af1bc2cdde6bb2.png\" alt=\"Alt Text\" width=\"520\" height=\"270\">"
   ]
  },
  {
   "cell_type": "markdown",
   "id": "02d1ad74",
   "metadata": {},
   "source": [
    "**ANSWER: C**"
   ]
  }
 ],
 "metadata": {
  "language_info": {
   "name": "python"
  }
 },
 "nbformat": 4,
 "nbformat_minor": 5
}
