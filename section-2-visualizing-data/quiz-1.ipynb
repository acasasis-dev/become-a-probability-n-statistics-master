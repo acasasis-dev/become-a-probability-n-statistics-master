{
 "cells": [
  {
   "cell_type": "markdown",
   "id": "6a7a3061",
   "metadata": {},
   "source": [
    "## Quiz 1: One-way tables"
   ]
  },
  {
   "cell_type": "markdown",
   "id": "6fc556ce",
   "metadata": {},
   "source": [
    "> 1. **ANSWER: C**"
   ]
  },
  {
   "cell_type": "markdown",
   "id": "b01560e8",
   "metadata": {},
   "source": [
    "<img src=\"https://img-c.udemycdn.com/redactor/raw/quiz_question/2023-07-16_23-04-49-73d61bb388c659e79469303a59e541f4.png\" alt=\"Alt Text\" width=\"900\" height=\"350\">"
   ]
  },
  {
   "cell_type": "markdown",
   "id": "7ec1307d",
   "metadata": {},
   "source": [
    "> 2. **ANSWER: B**"
   ]
  },
  {
   "cell_type": "markdown",
   "id": "9c4b0855",
   "metadata": {},
   "source": [
    "<img src=\"https://img-c.udemycdn.com/redactor/raw/quiz_question/2021-01-06_19-35-56-f37830a98c1ee81107cea4cd5eac70a0.png\" alt=\"Alt Text\" width=\"900\" height=\"350\">"
   ]
  },
  {
   "cell_type": "markdown",
   "id": "b2e94ad1",
   "metadata": {},
   "source": [
    "> 3. **ANSWER: A**"
   ]
  },
  {
   "cell_type": "markdown",
   "id": "1029ca08",
   "metadata": {},
   "source": [
    "<img src=\"https://img-c.udemycdn.com/redactor/raw/quiz_question/2021-01-06_19-36-42-a54340868f90243ebdd40a0d5d2750f9.png\" alt=\"Alt Text\" width=\"900\" height=\"700\">"
   ]
  }
 ],
 "metadata": {
  "language_info": {
   "name": "python"
  }
 },
 "nbformat": 4,
 "nbformat_minor": 5
}
