{
 "cells": [
  {
   "cell_type": "markdown",
   "id": "ee8b2b94",
   "metadata": {},
   "source": [
    "## Quiz 2: Bar Graphs and Pie Charts"
   ]
  },
  {
   "cell_type": "markdown",
   "id": "1f7d25e0",
   "metadata": {},
   "source": [
    "> 1."
   ]
  },
  {
   "cell_type": "markdown",
   "id": "3038e60d",
   "metadata": {},
   "source": [
    "<img src=\"https://img-c.udemycdn.com/redactor/raw/quiz_question/2021-01-06_19-40-51-9dd941191ce6be4b7b77ee23fc635952.png\" alt=\"Alt Text\" width=\"900\" height=\"700\">"
   ]
  },
  {
   "cell_type": "markdown",
   "id": "74831562",
   "metadata": {},
   "source": [
    "> 2."
   ]
  },
  {
   "cell_type": "markdown",
   "id": "8a9ed1c7",
   "metadata": {},
   "source": [
    "<img src=\"https://img-c.udemycdn.com/redactor/raw/quiz_question/2021-01-06_19-45-13-c9a1439bdd6726fdf87556d7bce0c2a4.png\" alt=\"Alt Text\" width=\"900\" height=\"700\">"
   ]
  },
  {
   "cell_type": "markdown",
   "id": "1ec2e0ee",
   "metadata": {},
   "source": [
    "> 3."
   ]
  },
  {
   "cell_type": "markdown",
   "id": "34d4e759",
   "metadata": {},
   "source": [
    "<img src=\"https://img-c.udemycdn.com/redactor/raw/quiz_question/2021-01-06_19-45-54-91b4ac2fe898c06360c521ca45e524d5.png\" alt=\"Alt Text\" width=\"900\" height=\"700\">"
   ]
  }
 ],
 "metadata": {
  "language_info": {
   "name": "python"
  }
 },
 "nbformat": 4,
 "nbformat_minor": 5
}
