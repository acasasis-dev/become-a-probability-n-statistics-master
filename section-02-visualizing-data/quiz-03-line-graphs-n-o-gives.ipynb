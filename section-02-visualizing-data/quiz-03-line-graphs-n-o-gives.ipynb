{
 "cells": [
  {
   "cell_type": "markdown",
   "id": "aa5f7096",
   "metadata": {},
   "source": [
    "## Quiz 3: Line Graphs and OGives"
   ]
  },
  {
   "cell_type": "markdown",
   "id": "6d7aaba7",
   "metadata": {},
   "source": [
    "> 1. **ANSWER: B**"
   ]
  },
  {
   "cell_type": "markdown",
   "id": "2a1f7700",
   "metadata": {},
   "source": [
    "<img src=\"https://img-c.udemycdn.com/redactor/raw/quiz_question/2021-01-06_19-50-05-f0d9949be30c6e79c39cdff488a84926.png\" alt=\"Alt Text\" width=\"900\" height=\"350\">"
   ]
  },
  {
   "cell_type": "markdown",
   "id": "3682d061",
   "metadata": {},
   "source": [
    "> 2. **ANSWER: D**"
   ]
  },
  {
   "cell_type": "markdown",
   "id": "c259c111",
   "metadata": {},
   "source": [
    "<img src=\"https://img-c.udemycdn.com/redactor/raw/quiz_question/2021-01-06_19-51-00-63e36508e6054128c7cafe6b39023c4a.png\" alt=\"Alt Text\" width=\"900\" height=\"700\">"
   ]
  },
  {
   "cell_type": "markdown",
   "id": "b81083a3",
   "metadata": {},
   "source": [
    "> 3. **ANSWER: A**"
   ]
  },
  {
   "cell_type": "markdown",
   "id": "a6f51181",
   "metadata": {},
   "source": [
    "<img src=\"https://img-c.udemycdn.com/redactor/raw/quiz_question/2021-01-06_19-51-29-a96ca2f1ce99b0ed4c9a7d6b38a57614.png\" alt=\"Alt Text\" width=\"900\" height=\"400\">"
   ]
  }
 ],
 "metadata": {
  "language_info": {
   "name": "python"
  }
 },
 "nbformat": 4,
 "nbformat_minor": 5
}
