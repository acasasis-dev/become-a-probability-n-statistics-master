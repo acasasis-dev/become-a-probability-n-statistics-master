{
 "cells": [
  {
   "cell_type": "markdown",
   "id": "452c18c5",
   "metadata": {},
   "source": [
    "## Quiz 10: Building Histograms From Datasets"
   ]
  },
  {
   "cell_type": "markdown",
   "id": "d4b276a8",
   "metadata": {},
   "source": [
    "> 1. If we divide the dataset into **6** classes, what will be the class width?\n",
    "\n",
    "\\begin{gather*}\n",
    "    12, 7, 9, 5, 8, 17, 28, 31, 17, 25, 13, 14, 6, 2, 20, 39, 45, 16, 33, 28\n",
    "\\end{gather*}"
   ]
  },
  {
   "cell_type": "markdown",
   "id": "10b5e03c",
   "metadata": {},
   "source": [
    "> 2. When constructing a histogram from the dataset, which class interval will have the largest frequency if we use **6** classes?\n",
    "\n",
    "\\begin{gather*}\n",
    "    12, 7, 9, 5, 8, 17, 28, 31, 17, 25, 13, 14, 6, 2, 20, 39, 45, 16, 33, 28\n",
    "\\end{gather*}"
   ]
  },
  {
   "cell_type": "markdown",
   "id": "39f75fdc",
   "metadata": {},
   "source": [
    "> 3."
   ]
  },
  {
   "cell_type": "markdown",
   "id": "42c16305",
   "metadata": {},
   "source": [
    "<img src=\"https://img-c.udemycdn.com/redactor/raw/quiz_question/2021-01-06_23-01-17-a399b0547b54a1b88a514547f873274b.png\" alt=\"Alt Text\" width=\"600\" height=\"550\">"
   ]
  }
 ],
 "metadata": {
  "language_info": {
   "name": "python"
  }
 },
 "nbformat": 4,
 "nbformat_minor": 5
}
