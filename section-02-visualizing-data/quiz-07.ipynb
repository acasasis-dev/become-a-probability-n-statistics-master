{
 "cells": [
  {
   "cell_type": "markdown",
   "id": "cb8645e8",
   "metadata": {},
   "source": [
    "## Quiz 7: Relative Frequency Tables"
   ]
  },
  {
   "cell_type": "markdown",
   "id": "174209aa",
   "metadata": {},
   "source": [
    "> 1."
   ]
  },
  {
   "cell_type": "markdown",
   "id": "fbce3064",
   "metadata": {},
   "source": [
    "<img src=\"https://img-c.udemycdn.com/redactor/raw/quiz_question/2021-01-06_21-29-15-e4e4f6a485f6141e37221d09367d6e30.png\" alt=\"Alt Text\" width=\"700\" height=\"550\">"
   ]
  },
  {
   "cell_type": "markdown",
   "id": "2cc4865f",
   "metadata": {},
   "source": [
    "> 2."
   ]
  },
  {
   "cell_type": "markdown",
   "id": "6f45449e",
   "metadata": {},
   "source": [
    "<img src=\"https://img-c.udemycdn.com/redactor/raw/quiz_question/2021-01-06_21-29-35-e0317efc21a31b38038ee083143f7008.png\" alt=\"Alt Text\" width=\"700\" height=\"550\">"
   ]
  },
  {
   "cell_type": "markdown",
   "id": "62c3fbdd",
   "metadata": {},
   "source": [
    "> 3."
   ]
  },
  {
   "cell_type": "markdown",
   "id": "744b6799",
   "metadata": {},
   "source": [
    "<img src=\"https://img-c.udemycdn.com/redactor/raw/quiz_question/2021-01-06_21-30-05-92aedf853d521360c7584f53cf15dc8e.png\" alt=\"Alt Text\" width=\"700\" height=\"550\">"
   ]
  }
 ],
 "metadata": {
  "language_info": {
   "name": "python"
  }
 },
 "nbformat": 4,
 "nbformat_minor": 5
}
