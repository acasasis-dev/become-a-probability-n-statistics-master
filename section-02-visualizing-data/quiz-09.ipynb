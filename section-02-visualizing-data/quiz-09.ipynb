{
 "cells": [
  {
   "cell_type": "markdown",
   "id": "54b6392e",
   "metadata": {},
   "source": [
    "## Quiz 9: Histograms and Stem-and-Leaf Plots"
   ]
  },
  {
   "cell_type": "markdown",
   "id": "1e65cb2f",
   "metadata": {},
   "source": [
    "> 1."
   ]
  },
  {
   "cell_type": "markdown",
   "id": "b10d6678",
   "metadata": {},
   "source": [
    "<img src=\"https://img-c.udemycdn.com/redactor/raw/quiz_question/2021-01-06_22-55-27-2e95436e7a06520a90531c3e118a987e.png\" alt=\"Alt Text\" width=\"700\" height=\"550\">"
   ]
  },
  {
   "cell_type": "markdown",
   "id": "5f272d55",
   "metadata": {},
   "source": [
    "> 2."
   ]
  },
  {
   "cell_type": "markdown",
   "id": "04d75fc7",
   "metadata": {},
   "source": [
    "<img src=\"https://img-c.udemycdn.com/redactor/raw/quiz_question/2021-01-06_22-56-16-e0a782fe0b191a1831224ba00d155346.png\" alt=\"Alt Text\" width=\"700\" height=\"350\">"
   ]
  },
  {
   "cell_type": "markdown",
   "id": "5746556d",
   "metadata": {},
   "source": [
    "> 3."
   ]
  },
  {
   "cell_type": "markdown",
   "id": "968ed9ec",
   "metadata": {},
   "source": [
    "<img src=\"https://img-c.udemycdn.com/redactor/raw/quiz_question/2021-01-06_22-56-57-1a23ffea8e77a5a62672269777c430e9.png\" alt=\"Alt Text\" width=\"700\" height=\"550\">"
   ]
  }
 ],
 "metadata": {
  "language_info": {
   "name": "python"
  }
 },
 "nbformat": 4,
 "nbformat_minor": 5
}
