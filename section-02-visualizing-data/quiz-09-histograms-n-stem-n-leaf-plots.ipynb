{
 "cells": [
  {
   "cell_type": "markdown",
   "id": "54b6392e",
   "metadata": {},
   "source": [
    "## Quiz 9: Histograms and Stem-and-Leaf Plots"
   ]
  },
  {
   "cell_type": "markdown",
   "id": "1e65cb2f",
   "metadata": {},
   "source": [
    "> 1. **ANSWER: B**\n",
    "\n",
    "Length count should include the start up to the end. e.g. 0 - 1 - 2 - 3 - 4 = Length of 5"
   ]
  },
  {
   "cell_type": "markdown",
   "id": "b10d6678",
   "metadata": {},
   "source": [
    "<img src=\"https://img-c.udemycdn.com/redactor/raw/quiz_question/2021-01-06_22-55-27-2e95436e7a06520a90531c3e118a987e.png\" alt=\"Alt Text\" width=\"600\" height=\"550\">"
   ]
  },
  {
   "cell_type": "markdown",
   "id": "5f272d55",
   "metadata": {},
   "source": [
    "> 2. **ANSWER: D**\n",
    "\n",
    "Town population and age are both quantitative data and you can have lengths of ages for the horizontal data"
   ]
  },
  {
   "cell_type": "markdown",
   "id": "04d75fc7",
   "metadata": {},
   "source": [
    "<img src=\"https://img-c.udemycdn.com/redactor/raw/quiz_question/2021-01-06_22-56-16-e0a782fe0b191a1831224ba00d155346.png\" alt=\"Alt Text\" width=\"600\" height=\"250\">"
   ]
  },
  {
   "cell_type": "markdown",
   "id": "5746556d",
   "metadata": {},
   "source": [
    "> 3. **ANSWER: A**\n",
    "\n",
    "62 and 66 are the only number of baskets that are more than 35"
   ]
  },
  {
   "cell_type": "markdown",
   "id": "968ed9ec",
   "metadata": {},
   "source": [
    "<img src=\"https://img-c.udemycdn.com/redactor/raw/quiz_question/2021-01-06_22-56-57-1a23ffea8e77a5a62672269777c430e9.png\" alt=\"Alt Text\" width=\"600\" height=\"460\">"
   ]
  }
 ],
 "metadata": {
  "language_info": {
   "name": "python"
  }
 },
 "nbformat": 4,
 "nbformat_minor": 5
}
