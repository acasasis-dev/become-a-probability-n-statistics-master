{
 "cells": [
  {
   "cell_type": "markdown",
   "id": "fa63527e",
   "metadata": {},
   "source": [
    "## Quiz 4: Two-way Tables"
   ]
  },
  {
   "cell_type": "markdown",
   "id": "6d1676cb",
   "metadata": {},
   "source": [
    "> 1. **ANSWER: D**"
   ]
  },
  {
   "cell_type": "markdown",
   "id": "2fa88aaf",
   "metadata": {},
   "source": [
    "<img src=\"https://img-c.udemycdn.com/redactor/raw/quiz_question/2023-06-23_14-12-42-f46bf9041594c2dc57cc751c7134f781.png\" alt=\"Alt Text\" width=\"900\" height=\"700\">"
   ]
  },
  {
   "cell_type": "markdown",
   "id": "461d4a57",
   "metadata": {},
   "source": [
    "> 2. **ANSWER: A**"
   ]
  },
  {
   "cell_type": "markdown",
   "id": "ab770faa",
   "metadata": {},
   "source": [
    "<img src=\"https://img-c.udemycdn.com/redactor/raw/quiz_question/2021-01-06_19-55-49-874a49710f187ada2abf0051c13cf8e5.png\" alt=\"Alt Text\" width=\"900\" height=\"700\">"
   ]
  },
  {
   "cell_type": "markdown",
   "id": "d2c24432",
   "metadata": {},
   "source": [
    "> 3. **ANSWER: B**"
   ]
  },
  {
   "cell_type": "markdown",
   "id": "a27563fb",
   "metadata": {},
   "source": [
    "<img src=\"https://img-c.udemycdn.com/redactor/raw/quiz_question/2021-01-06_19-56-51-c2707d4800c97293399ed2588a02ca6c.png\" alt=\"Alt Text\" width=\"900\" height=\"700\">"
   ]
  }
 ],
 "metadata": {
  "language_info": {
   "name": "python"
  }
 },
 "nbformat": 4,
 "nbformat_minor": 5
}
