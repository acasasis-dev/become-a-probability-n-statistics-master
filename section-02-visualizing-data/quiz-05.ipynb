{
 "cells": [
  {
   "cell_type": "markdown",
   "id": "c47165f4",
   "metadata": {},
   "source": [
    "## Quiz 5: Venn Diagrams"
   ]
  },
  {
   "cell_type": "markdown",
   "id": "509478cc",
   "metadata": {},
   "source": [
    "> 1. **ANSWER: A**"
   ]
  },
  {
   "cell_type": "markdown",
   "id": "71e1e969",
   "metadata": {},
   "source": [
    "<img src=\"https://img-c.udemycdn.com/redactor/raw/quiz_question/2021-01-06_20-27-16-b57c5b2a81951724de573718d10c8e76.png\" alt=\"Alt Text\" width=\"900\" height=\"350\">"
   ]
  },
  {
   "cell_type": "markdown",
   "id": "dc0314ab",
   "metadata": {},
   "source": [
    "> 2. **ANSWER: B**"
   ]
  },
  {
   "cell_type": "markdown",
   "id": "30cfb9b6",
   "metadata": {},
   "source": [
    "<img src=\"https://img-c.udemycdn.com/redactor/raw/quiz_question/2021-01-06_20-27-51-4909dc8c8559dacb3bef0baae3a0a719.png\" alt=\"Alt Text\" width=\"900\" height=\"550\">"
   ]
  },
  {
   "cell_type": "markdown",
   "id": "e28f848f",
   "metadata": {},
   "source": [
    "> 3. **ANSWER: D**"
   ]
  },
  {
   "cell_type": "markdown",
   "id": "f1168d76",
   "metadata": {},
   "source": [
    "<img src=\"https://img-c.udemycdn.com/redactor/raw/quiz_question/2025-02-26_03-07-54-27cc11ce0ddf5aa03342ec0763d4b6d6.png\" alt=\"Alt Text\" width=\"900\" height=\"550\">"
   ]
  }
 ],
 "metadata": {
  "language_info": {
   "name": "python"
  }
 },
 "nbformat": 4,
 "nbformat_minor": 5
}
