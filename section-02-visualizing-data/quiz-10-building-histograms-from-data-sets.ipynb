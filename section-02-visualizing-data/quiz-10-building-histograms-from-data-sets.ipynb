{
 "cells": [
  {
   "cell_type": "markdown",
   "id": "452c18c5",
   "metadata": {},
   "source": [
    "## Quiz 10: Building Histograms From Datasets"
   ]
  },
  {
   "cell_type": "markdown",
   "id": "d4b276a8",
   "metadata": {},
   "source": [
    "> 1. If we divide the dataset into **6** classes, what will be the class width?\n",
    "\n",
    "\\begin{gather*}\n",
    "    12, 7, 9, 5, 8, 17, 28, 31, 17, 25, 13, 14, 6, 2, 20, 39, 45, 16, 33, 28 \\\\\n",
    "    2, 5, 6, 7, 8, 9, 12, 13, 14, 16, 17, 17, 20, 25, 28, 28, 31, 33, 39, 45 \\\\\n",
    "    \\lceil \\frac{45 - 2}{6} \\rceil = \\lceil \\frac{43}{6} \\rceil = \\lceil 7.17 \\rceil = \\boxed{8} \n",
    "\\end{gather*}"
   ]
  },
  {
   "cell_type": "markdown",
   "id": "10b5e03c",
   "metadata": {},
   "source": [
    "> 2. When constructing a histogram from the dataset, which class interval will have the largest frequency if we use **6** classes?\n",
    "\n",
    "\\begin{gather*}\n",
    "    12, 7, 9, 5, 8, 17, 28, 31, 17, 25, 13, 14, 6, 2, 20, 39, 45, 16, 33, 28 \\\\\n",
    "    2, 5, 6, 7, 8, 9, 12, 13, 14, 16, 17, 17, 20, 25, 28, 28, 31, 33, 39, 45 \\\\\n",
    "\\end{gather*}\n",
    "\n",
    "<div align=\"center\">\n",
    "\n",
    "| CLASS | FREQUENCY |\n",
    "|-------|-----------|\n",
    "| 0-7   | 4         |\n",
    "| 8-15  | 5         |\n",
    "| 16-23 | 4         |\n",
    "| 24-31 | 4         |\n",
    "| 32-39 | 2         |\n",
    "| 40-48 | 1         |\n",
    "\n",
    "<b>ANSWER: 8-15</b>\n",
    "</div>"
   ]
  },
  {
   "cell_type": "markdown",
   "id": "39f75fdc",
   "metadata": {},
   "source": [
    "> 3.\n",
    "\n",
    "\\begin{gather*}\n",
    "    85, 91, 94, 74, 88, 98, 83, 73, 86, 89, 93, 80, 77, 79, 95 \\\\\n",
    "    73, 74, 77, 79, 80, 83, 85, 86, 88, 89, 91, 93, 94, 95, 98 \\\\\n",
    "    \\lceil \\frac{98 - 73}{15} \\rceil = \\lceil \\frac{25}{5} \\rceil = \\lceil 5 \\rceil = \\boxed{5} \n",
    "\\end{gather*}\n",
    "\n",
    "<div align=\"center\">\n",
    "\n",
    "| CLASS | FREQUENCY |\n",
    "|-------|-----------|\n",
    "| 70-75 | 2         |\n",
    "| 76-81 | 3         |\n",
    "| 82-87 | 3         |\n",
    "| 88-93 | 4         |\n",
    "| 94-99 | 3         |\n",
    "\n",
    "<b>ANSWER: D</b>\n",
    "</div>"
   ]
  },
  {
   "cell_type": "markdown",
   "id": "42c16305",
   "metadata": {},
   "source": [
    "<img src=\"https://img-c.udemycdn.com/redactor/raw/quiz_question/2021-01-06_23-01-17-a399b0547b54a1b88a514547f873274b.png\" alt=\"Alt Text\" width=\"600\" height=\"550\">"
   ]
  }
 ],
 "metadata": {
  "kernelspec": {
   "display_name": "Python 3",
   "language": "python",
   "name": "python3"
  },
  "language_info": {
   "codemirror_mode": {
    "name": "ipython",
    "version": 3
   },
   "file_extension": ".py",
   "mimetype": "text/x-python",
   "name": "python",
   "nbconvert_exporter": "python",
   "pygments_lexer": "ipython3",
   "version": "3.12.2"
  }
 },
 "nbformat": 4,
 "nbformat_minor": 5
}
