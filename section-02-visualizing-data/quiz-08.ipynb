{
 "cells": [
  {
   "cell_type": "markdown",
   "id": "8e5c9f09",
   "metadata": {},
   "source": [
    "## Quiz 8: Join Distributions"
   ]
  },
  {
   "cell_type": "markdown",
   "id": "3c8484e7",
   "metadata": {},
   "source": [
    "> 1."
   ]
  },
  {
   "cell_type": "markdown",
   "id": "121d1e1e",
   "metadata": {},
   "source": [
    "<img src=\"https://img-c.udemycdn.com/redactor/raw/quiz_question/2021-01-06_22-48-10-832183abf59db501cd235c0353012c7d.png\" alt=\"Alt Text\" width=\"700\" height=\"550\">"
   ]
  },
  {
   "cell_type": "markdown",
   "id": "de5eb2d7",
   "metadata": {},
   "source": [
    "> 2."
   ]
  },
  {
   "cell_type": "markdown",
   "id": "a695d13a",
   "metadata": {},
   "source": [
    "<img src=\"https://img-c.udemycdn.com/redactor/raw/quiz_question/2021-01-06_22-49-03-5290d881bb78d0b4d4114543523b9593.png\" alt=\"Alt Text\" width=\"700\" height=\"550\">"
   ]
  },
  {
   "cell_type": "markdown",
   "id": "b5076ae0",
   "metadata": {},
   "source": [
    "> 3."
   ]
  },
  {
   "cell_type": "markdown",
   "id": "4a9a2d36",
   "metadata": {},
   "source": [
    "<img src=\"https://img-c.udemycdn.com/redactor/raw/quiz_question/2021-01-06_22-49-30-ed26166d4f14d38a15c71be1b1524f15.png\" alt=\"Alt Text\" width=\"700\" height=\"550\">"
   ]
  }
 ],
 "metadata": {
  "language_info": {
   "name": "python"
  }
 },
 "nbformat": 4,
 "nbformat_minor": 5
}
