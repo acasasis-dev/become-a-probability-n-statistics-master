{
 "cells": [
  {
   "cell_type": "markdown",
   "id": "b6479825",
   "metadata": {},
   "source": [
    "## Quiz 6: Frequency Tables and Dot Plots"
   ]
  },
  {
   "cell_type": "markdown",
   "id": "133638ce",
   "metadata": {},
   "source": [
    "> 1. **ANSWER: C**"
   ]
  },
  {
   "cell_type": "markdown",
   "id": "2f2ceed0",
   "metadata": {},
   "source": [
    "<img src=\"https://img-c.udemycdn.com/redactor/raw/quiz_question/2021-01-06_21-03-55-3b646ac93430de46269bc4dab343f2c1.png\" alt=\"Alt Text\" width=\"900\" height=\"650\">"
   ]
  },
  {
   "cell_type": "markdown",
   "id": "dd6055c0",
   "metadata": {},
   "source": [
    "> 2. **ANSWER: A**"
   ]
  },
  {
   "cell_type": "markdown",
   "id": "32fb78f7",
   "metadata": {},
   "source": [
    "<img src=\"https://img-c.udemycdn.com/redactor/raw/quiz_question/2021-01-14_14-06-34-45fe931fd84904fa2335f9a26aa58a1c.png\" alt=\"Alt Text\" width=\"900\" height=\"650\">"
   ]
  },
  {
   "cell_type": "markdown",
   "id": "bc99df56",
   "metadata": {},
   "source": [
    "> 3. **ANSWER: A**"
   ]
  },
  {
   "cell_type": "markdown",
   "id": "5b7244e0",
   "metadata": {},
   "source": [
    "<img src=\"https://img-c.udemycdn.com/redactor/raw/quiz_question/2021-01-06_21-04-42-8d68d64bac1b8404b7edcbac403c6319.png\" alt=\"Alt Text\" width=\"900\" height=\"650\">"
   ]
  }
 ],
 "metadata": {
  "language_info": {
   "name": "python"
  }
 },
 "nbformat": 4,
 "nbformat_minor": 5
}
