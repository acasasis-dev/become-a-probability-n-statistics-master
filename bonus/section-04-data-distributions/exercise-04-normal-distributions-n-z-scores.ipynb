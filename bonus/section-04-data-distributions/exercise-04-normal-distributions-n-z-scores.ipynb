{
 "cells": [
  {
   "cell_type": "markdown",
   "id": "a7719329",
   "metadata": {},
   "source": [
    "## Exercise 4: Normal Distributions and Z-Scores"
   ]
  },
  {
   "cell_type": "markdown",
   "id": "0f365fd9",
   "metadata": {},
   "source": [
    "> 1. A population has a mean of $62$ and a standard deviation of $5$. What is\n",
    "the z-score for a value of $50$?"
   ]
  },
  {
   "cell_type": "markdown",
   "id": "df6fbe7d",
   "metadata": {},
   "source": [
    "> 2. What percentile is a z-score of $−1.68$?"
   ]
  },
  {
   "cell_type": "markdown",
   "id": "14244bf1",
   "metadata": {},
   "source": [
    "> 3. A population has a mean of $170$ centimeters and a standard deviation\n",
    "of $8$ centimeters. What percentage of the population has a value less than\n",
    "$154$ centimeters?"
   ]
  },
  {
   "cell_type": "markdown",
   "id": "8e09f9a4",
   "metadata": {},
   "source": [
    "> 4. The mean diameter of a North American Native Pine tree is $18''$ with a\n",
    "standard deviation of $4''$. What is the approximate diameter for a tree in\n",
    "the $21$ st percentile for this distribution? Assume an approximately normal\n",
    "distribution."
   ]
  },
  {
   "cell_type": "markdown",
   "id": "c9341c60",
   "metadata": {},
   "source": [
    "> 5. The mean diameter of a North American Native Pine tree is $18''$ with a\n",
    "standard deviation of $4''$. According to the Empirical Rule, $68\\%$ of North\n",
    "American Native Pines have a diameter between which two values?\n",
    "Assume an approximately normal distribution."
   ]
  },
  {
   "cell_type": "markdown",
   "id": "36e4f2f7",
   "metadata": {},
   "source": [
    "> 6. IQ scores are normally distributed with a mean of $100$ and a standard\n",
    "deviation of $16$. What percentage of the population has an IQ score\n",
    "between and $120$ and $140$?"
   ]
  }
 ],
 "metadata": {
  "language_info": {
   "name": "python"
  }
 },
 "nbformat": 4,
 "nbformat_minor": 5
}
