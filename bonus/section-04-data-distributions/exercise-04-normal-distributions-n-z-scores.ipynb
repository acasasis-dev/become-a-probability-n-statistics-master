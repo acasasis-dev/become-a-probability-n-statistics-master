{
 "cells": [
  {
   "cell_type": "markdown",
   "id": "a7719329",
   "metadata": {},
   "source": [
    "## Exercise 4: Normal Distributions and Z-Scores"
   ]
  },
  {
   "cell_type": "markdown",
   "id": "0f365fd9",
   "metadata": {},
   "source": [
    "> 1. A population has a mean of $62$ and a standard deviation of $5$. What is\n",
    "the z-score for a value of $50$?"
   ]
  },
  {
   "cell_type": "markdown",
   "id": "b08eb0da",
   "metadata": {},
   "source": [
    "\\begin{gather*}\n",
    "    50 = 62 - 5z \\\\\n",
    "    5z = 62 - 50 \\\\\n",
    "    5z = 12 \\\\\n",
    "    \\frac{5z = 12}{5} \\\\\n",
    "    z = 2.4\n",
    "\\end{gather*}\n",
    "\n",
    "Since it's to the left, the z-score is $-2.4$"
   ]
  },
  {
   "cell_type": "markdown",
   "id": "df6fbe7d",
   "metadata": {},
   "source": [
    "> 2. What percentile is a z-score of $−1.68$?"
   ]
  },
  {
   "cell_type": "markdown",
   "id": "c2a19eec",
   "metadata": {},
   "source": [
    "It's in the $5\\text{th}$ percentile"
   ]
  },
  {
   "cell_type": "markdown",
   "id": "14244bf1",
   "metadata": {},
   "source": [
    "> 3. A population has a mean of $170$ centimeters and a standard deviation\n",
    "of $8$ centimeters. What percentage of the population has a value less than\n",
    "$154$ centimeters?"
   ]
  },
  {
   "cell_type": "markdown",
   "id": "ce1e28b0",
   "metadata": {},
   "source": [
    "\\begin{gather*}\n",
    "    154 = 170 - 8z \\\\\n",
    "    8z = 170 - 154 \\\\\n",
    "    8z = 16 \\\\\n",
    "    \\frac{8z = 16}{8} \\\\\n",
    "    z = 2\n",
    "\\end{gather*}\n",
    "\n",
    "Since it's in the $-2$ z-score, the percentage of the population that is less than $154$ cm is $1 - 0.9772 = 0.0228$ which is around $\\approx 2.28\\%$"
   ]
  },
  {
   "cell_type": "markdown",
   "id": "8e09f9a4",
   "metadata": {},
   "source": [
    "> 4. The mean diameter of a North American Native Pine tree is $18''$ with a\n",
    "standard deviation of $4''$. What is the approximate diameter for a tree in\n",
    "the $21$ st percentile for this distribution? Assume an approximately normal\n",
    "distribution."
   ]
  },
  {
   "cell_type": "markdown",
   "id": "7a96c991",
   "metadata": {},
   "source": [
    "According to the z-score table, 21st percentile is in $-0.8$ z-score so we're using $-0.81$ to find out\n",
    "\n",
    "\\begin{gather*}\n",
    "    n = 18 - 0.81(4) \\\\\n",
    "    n = 18 - 3.24 \\\\\n",
    "    n = 14.76\n",
    "\\end{gather*}"
   ]
  },
  {
   "cell_type": "markdown",
   "id": "c9341c60",
   "metadata": {},
   "source": [
    "> 5. The mean diameter of a North American Native Pine tree is $18''$ with a\n",
    "standard deviation of $4''$. According to the Empirical Rule, $68\\%$ of North\n",
    "American Native Pines have a diameter between which two values?\n",
    "Assume an approximately normal distribution."
   ]
  },
  {
   "cell_type": "markdown",
   "id": "239e3c42",
   "metadata": {},
   "source": [
    "That will be on $18 - 4$ which is $14$ and $18 + 4$ which is $22$"
   ]
  },
  {
   "cell_type": "markdown",
   "id": "36e4f2f7",
   "metadata": {},
   "source": [
    "> 6. IQ scores are normally distributed with a mean of $100$ and a standard\n",
    "deviation of $16$. What percentage of the population has an IQ score\n",
    "between and $120$ and $140$?"
   ]
  },
  {
   "cell_type": "markdown",
   "id": "53e20c96",
   "metadata": {},
   "source": [
    "\\begin{gather*}\n",
    "    120 = 100 + 16z \\\\\n",
    "    16z = 20 \\\\\n",
    "    z = 1.25 \\\\ \\\\\n",
    "\n",
    "    140 = 100 + 16z \\\\\n",
    "    16z = 40 \\\\\n",
    "    z = 2.5\n",
    "\\end{gather*}\n",
    "\n",
    "In z-score table $1.25$ corresponds to $89.44\\%$ percentile and $2.5$ corresponds to $99.38\\%$ so in the equation $99 - 89$, there's $9.94\\%$ of the population that is between the IQ Score of $120 - 140$"
   ]
  }
 ],
 "metadata": {
  "language_info": {
   "name": "python"
  }
 },
 "nbformat": 4,
 "nbformat_minor": 5
}
