{
 "cells": [
  {
   "cell_type": "markdown",
   "id": "47e4ab01",
   "metadata": {},
   "source": [
    "## Exercise 5: Chebyshev's Theorem"
   ]
  },
  {
   "cell_type": "markdown",
   "id": "5d4c9fb5",
   "metadata": {},
   "source": [
    "> 1. If the Empirical Rule tells us that $95\\%$ of the area under the normal\n",
    "distribution falls within two standard deviations of the mean, what will\n",
    "Chebyshev’s Theorem say about the same number of standard\n",
    "deviations?"
   ]
  },
  {
   "cell_type": "markdown",
   "id": "0b005fc4",
   "metadata": {},
   "source": [
    "> 2. A basket of strawberries has a mean weight of $2$ ounces with a\n",
    "standard deviation of $0.35$ ounces. What percentage of the strawberries in\n",
    "the basket have a weight between $1.5$ and $2.5$ ounces?"
   ]
  },
  {
   "cell_type": "markdown",
   "id": "ed8f5c52",
   "metadata": {},
   "source": [
    "> 3. A pod of $580$ migrating whales travels a mean distance of $2,000$ miles\n",
    "each year, with a standard deviation of $175$ miles. How many whales in the\n",
    "pod travel between $1,600$ and $2,400$ miles?"
   ]
  },
  {
   "cell_type": "markdown",
   "id": "1ca2bbb1",
   "metadata": {},
   "source": [
    "> 4. A hockey team of $20$ boys have a mean height of $73$ inches, with a\n",
    "standard deviation of $1.8$ inches. Find the height range for the central $90\\%$\n",
    "of team members."
   ]
  },
  {
   "cell_type": "markdown",
   "id": "e43d675f",
   "metadata": {},
   "source": [
    "> 5. A university with $40,000$ students accepts an average of $10,000$ new\n",
    "students each year, with a standard deviation of $500$ students. Find the\n",
    "values that make up the middle $75\\%$ of the yearly acceptance range."
   ]
  },
  {
   "cell_type": "markdown",
   "id": "88cb0eac",
   "metadata": {},
   "source": [
    "> 6. A pack of $26$ wolves have a mean weight of $100$ pounds, with a\n",
    "standard deviation of $24$ pounds. Find the weight range for the central $82\\%$\n",
    "of the wolves."
   ]
  }
 ],
 "metadata": {
  "language_info": {
   "name": "python"
  }
 },
 "nbformat": 4,
 "nbformat_minor": 5
}
